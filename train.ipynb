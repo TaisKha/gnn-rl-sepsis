{
 "cells": [
  {
   "cell_type": "code",
   "execution_count": 1,
   "id": "f7e90cbd-2886-4a1f-a7dc-1a3e05123ca4",
   "metadata": {},
   "outputs": [],
   "source": [
    "import os\n",
    "from utils import logging, get_trajectory_from_neo4j, Neo4jConnection\n",
    "\n",
    "logging.getLogger().setLevel(logging.INFO)\n",
    "\n",
    "# load_dotenv()\n",
    "# neo4j_url = os.environ.get(\"NEO4J_URI\")\n",
    "# neo4j_username = os.environ.get(\"NEO4J_USERNAME\")\n",
    "# neo4j_password = os.environ.get(\"NEO4J_PASSWORD\")\n",
    "\n",
    "# Initialize the Neo4j driver\n",
    "neo4j_connection = Neo4jConnection()\n",
    "driver = neo4j_connection.get_driver()"
   ]
  },
  {
   "cell_type": "code",
   "execution_count": 6,
   "id": "2cb7fe47-15d8-4b19-a9f3-79121808d8e6",
   "metadata": {},
   "outputs": [],
   "source": [
    "import networkx as nx"
   ]
  },
  {
   "cell_type": "code",
   "execution_count": 7,
   "id": "93a4f45d-2f4d-4ddf-b0a4-f4b0ae05fb16",
   "metadata": {},
   "outputs": [],
   "source": [
    "from torch_geometric.data import HeteroData\n",
    "import torch"
   ]
  },
  {
   "cell_type": "code",
   "execution_count": 4,
   "id": "738e6a40-b1dd-48b4-b44f-838bc723da0b",
   "metadata": {},
   "outputs": [],
   "source": [
    "\n",
    "# Example from docs, do not execute. \n",
    "# https://pytorch-geometric.readthedocs.io/en/2.5.0/generated/torch_geometric.data.HeteroData.html\n",
    "# data = HeteroData()\n",
    "\n",
    "# data['paper'].x = ... # [num_papers, num_features_paper]\n",
    "# data['author'].x = ... # [num_authors, num_features_author]\n",
    "# data['institution'].x = ... # [num_institutions, num_features_institution]\n",
    "# data['field_of_study'].x = ... # [num_field, num_features_field]\n",
    "\n",
    "# data['paper', 'cites', 'paper'].edge_index = ... # [2, num_edges_cites]\n",
    "# data['author', 'writes', 'paper'].edge_index = ... # [2, num_edges_writes]\n",
    "# data['author', 'affiliated_with', 'institution'].edge_index = ... # [2, num_edges_affiliated]\n",
    "# data['paper', 'has_topic', 'field_of_study'].edge_index = ... # [2, num_edges_topic]\n",
    "\n",
    "# data['paper', 'cites', 'paper'].edge_attr = ... # [num_edges_cites, num_features_cites]\n",
    "# data['author', 'writes', 'paper'].edge_attr = ... # [num_edges_writes, num_features_writes]\n",
    "# data['author', 'affiliated_with', 'institution'].edge_attr = ... # [num_edges_affiliated, num_features_affiliated]\n",
    "# data['paper', 'has_topic', 'field_of_study'].edge_attr = ... # [num_edges_topic, num_features_topic]\n",
    "\n"
   ]
  },
  {
   "cell_type": "code",
   "execution_count": 5,
   "id": "72c79a5e-46c9-48e1-82cd-7a33717740f7",
   "metadata": {},
   "outputs": [],
   "source": [
    "# Explain in the text why the first dimension in edges is 2. That is not intuitive. Source nodes - target nodes"
   ]
  },
  {
   "cell_type": "code",
   "execution_count": null,
   "id": "788596aa-c8e4-4f45-8ed4-3d26b6c96c8e",
   "metadata": {},
   "outputs": [],
   "source": []
  },
  {
   "cell_type": "code",
   "execution_count": 10,
   "id": "878507fb-cb26-4bd4-9e53-0e52da386f5a",
   "metadata": {},
   "outputs": [],
   "source": [
    "patient, time_steps, actions = get_trajectory_from_neo4j(driver=driver, traj=6)"
   ]
  },
  {
   "cell_type": "markdown",
   "id": "57f5b8bb-f965-4fa5-ae92-00031c984f2e",
   "metadata": {},
   "source": [
    "## IMPORTANT: Timestep nodes start from 0!!! in the data and in the heterograph"
   ]
  },
  {
   "cell_type": "code",
   "execution_count": null,
   "id": "aefa9ba0-09ff-448e-a5fe-4597d0504941",
   "metadata": {},
   "outputs": [],
   "source": []
  },
  {
   "cell_type": "code",
   "execution_count": 11,
   "id": "65cc0cd4-0592-41cf-98bf-63ac7a141b2e",
   "metadata": {},
   "outputs": [],
   "source": [
    "graph = HeteroData()\n",
    "# Add patient nodes\n",
    "patient_data = torch.tensor([list(patient.values())]) # shape should be (num patients, num features)\n",
    "graph['patient'].x = patient_data\n"
   ]
  },
  {
   "cell_type": "code",
   "execution_count": 12,
   "id": "863c5f04-c50c-4d49-84e1-af326b58e1c0",
   "metadata": {},
   "outputs": [],
   "source": [
    "# Add TimeStep nodes for this patient\n",
    "timestepdata = []\n",
    "for timestep in time_steps:\n",
    "    timestepdata.append(list(timestep.values()))\n",
    "\n",
    "graph['timestep'].x = torch.FloatTensor(timestepdata)"
   ]
  },
  {
   "cell_type": "code",
   "execution_count": 13,
   "id": "ee23f949-8f9d-469c-9858-a221814f836d",
   "metadata": {},
   "outputs": [
    {
     "name": "stdout",
     "output_type": "stream",
     "text": [
      "HeteroData(\n",
      "  patient={ x=[1, 6] },\n",
      "  timestep={ x=[20, 48] },\n",
      "  (patient, to, timestep)={ edge_index=[2, 20] }\n",
      ")\n"
     ]
    }
   ],
   "source": [
    "# Add edges between patient and timestep\n",
    "num_timesteps = graph['timestep'].x.size()[0]\n",
    "patient_to_timestep_edge_index = torch.tensor([\n",
    "    [0] * num_timesteps,  # Patient node repeated `num_timesteps` times (source nodes)\n",
    "    list(range(num_timesteps))  # Timestep node indices (target nodes) - start from 0\n",
    "])\n",
    "\n",
    "graph[\"patient\", \"to\", \"timestep\"].edge_index = patient_to_timestep_edge_index\n",
    "\n",
    "print(graph)"
   ]
  },
  {
   "cell_type": "code",
   "execution_count": 14,
   "id": "770041f6-d4d2-492d-8d07-4d2f516e5925",
   "metadata": {},
   "outputs": [
    {
     "name": "stdout",
     "output_type": "stream",
     "text": [
      "HeteroData(\n",
      "  patient={ x=[1, 6] },\n",
      "  timestep={ x=[20, 48] },\n",
      "  (patient, to, timestep)={ edge_index=[2, 20] },\n",
      "  (timestep, to, timestep)={ edge_index=[2, 19] }\n",
      ")\n"
     ]
    }
   ],
   "source": [
    "# Add edges between timesteps. Last timestep node is not connected with any node.\n",
    "timestep_to_timestep_edge_index = torch.tensor([\n",
    "    list(range(num_timesteps-1)),  #source timestep nodes\n",
    "    list(range(1, num_timesteps))  #target timestep nodes\n",
    "])\n",
    "\n",
    "graph[\"timestep\", \"to\", \"timestep\"].edge_index = timestep_to_timestep_edge_index\n",
    "\n",
    "print(graph)"
   ]
  },
  {
   "cell_type": "code",
   "execution_count": 15,
   "id": "15556706-7c04-4735-ba93-8f5838b9ee46",
   "metadata": {},
   "outputs": [
    {
     "data": {
      "text/plain": [
       "tensor([[ 0,  0,  0,  0,  0,  0,  0,  0,  0,  0,  0,  0,  0,  0,  0,  0,  0,  0,\n",
       "          0,  0],\n",
       "        [ 0,  1,  2,  3,  4,  5,  6,  7,  8,  9, 10, 11, 12, 13, 14, 15, 16, 17,\n",
       "         18, 19]])"
      ]
     },
     "execution_count": 15,
     "metadata": {},
     "output_type": "execute_result"
    }
   ],
   "source": [
    "patient_to_timestep_edge_index"
   ]
  },
  {
   "cell_type": "code",
   "execution_count": 16,
   "id": "ba33109a-88de-4aae-941b-e3d5ab4d641c",
   "metadata": {},
   "outputs": [
    {
     "data": {
      "text/plain": [
       "tensor([[ 0,  1,  2,  3,  4,  5,  6,  7,  8,  9, 10, 11, 12, 13, 14, 15, 16, 17,\n",
       "         18],\n",
       "        [ 1,  2,  3,  4,  5,  6,  7,  8,  9, 10, 11, 12, 13, 14, 15, 16, 17, 18,\n",
       "         19]])"
      ]
     },
     "execution_count": 16,
     "metadata": {},
     "output_type": "execute_result"
    }
   ],
   "source": [
    "timestep_to_timestep_edge_index"
   ]
  },
  {
   "cell_type": "code",
   "execution_count": 17,
   "id": "8bf060a7-3b47-4ce5-bc59-475c3be0c061",
   "metadata": {},
   "outputs": [],
   "source": [
    "# to do visualise graph"
   ]
  },
  {
   "cell_type": "code",
   "execution_count": 18,
   "id": "7153616a-37f7-4a76-a187-6a68b3808a08",
   "metadata": {},
   "outputs": [
    {
     "ename": "NameError",
     "evalue": "name 'actions' is not defined",
     "output_type": "error",
     "traceback": [
      "\u001b[0;31m---------------------------------------------------------------------------\u001b[0m",
      "\u001b[0;31mNameError\u001b[0m                                 Traceback (most recent call last)",
      "Cell \u001b[0;32mIn[18], line 2\u001b[0m\n\u001b[1;32m      1\u001b[0m \u001b[38;5;66;03m# Add property(action) to the edges between timesteps\u001b[39;00m\n\u001b[0;32m----> 2\u001b[0m actions_values \u001b[38;5;241m=\u001b[39m [action[\u001b[38;5;124m'\u001b[39m\u001b[38;5;124maction\u001b[39m\u001b[38;5;124m'\u001b[39m] \u001b[38;5;28;01mfor\u001b[39;00m action \u001b[38;5;129;01min\u001b[39;00m \u001b[43mactions\u001b[49m]\n\u001b[1;32m      3\u001b[0m graph[\u001b[38;5;124m\"\u001b[39m\u001b[38;5;124mtimestep\u001b[39m\u001b[38;5;124m\"\u001b[39m, \u001b[38;5;124m\"\u001b[39m\u001b[38;5;124mto\u001b[39m\u001b[38;5;124m\"\u001b[39m, \u001b[38;5;124m\"\u001b[39m\u001b[38;5;124mtimestep\u001b[39m\u001b[38;5;124m\"\u001b[39m]\u001b[38;5;241m.\u001b[39medge_attr \u001b[38;5;241m=\u001b[39m actions_values\n",
      "\u001b[0;31mNameError\u001b[0m: name 'actions' is not defined"
     ]
    }
   ],
   "source": [
    "# Add property(action) to the edges between timesteps\n",
    "actions_values = [action['action'] for action in actions]\n",
    "graph[\"timestep\", \"to\", \"timestep\"].edge_attr = actions_values"
   ]
  },
  {
   "cell_type": "code",
   "execution_count": 37,
   "id": "cd58a8bb-1a95-4f23-993b-d302b396f112",
   "metadata": {},
   "outputs": [],
   "source": [
    "# Add dummy weight to patient-to-timestep nodes. Without doing that it is not possible to use .to_hetero()\n",
    "\n",
    "graph[\"patient\", \"to\", \"timestep\"].edge_attr = [1] * num_timesteps"
   ]
  },
  {
   "cell_type": "code",
   "execution_count": 38,
   "id": "79491ace-7427-450d-a2c2-d54e249cea1b",
   "metadata": {},
   "outputs": [],
   "source": [
    "# Try to fix an error that patient is not a destination node. Creating 2 directed edges from patient to timestep and back\n",
    "# That hack worked\n",
    "timestep_to_patient_edge_index = torch.tensor([\n",
    "    list(range(num_timesteps)), # Timestep node indices (target nodes) - start from 0\n",
    "    [0] * num_timesteps  # Patient node repeated `num_timesteps` times (source nodes)\n",
    "      \n",
    "])\n",
    "\n",
    "graph[\"timestep\", \"to\", \"patient\"].edge_index = timestep_to_patient_edge_index\n",
    "graph[\"timestep\", \"to\", \"patient\"].edge_attr = [1] * num_timesteps"
   ]
  },
  {
   "cell_type": "code",
   "execution_count": 39,
   "id": "b644ea95-6c3c-47fd-bc7d-e783c227bd2b",
   "metadata": {},
   "outputs": [
    {
     "data": {
      "text/plain": [
       "HeteroData(\n",
       "  patient={ x=[1, 6] },\n",
       "  timestep={ x=[20, 48] },\n",
       "  (patient, to, timestep)={\n",
       "    edge_index=[2, 20],\n",
       "    edge_attr=[20],\n",
       "  },\n",
       "  (timestep, to, timestep)={\n",
       "    edge_index=[2, 19],\n",
       "    edge_attr=[19],\n",
       "  },\n",
       "  (timestep, to, patient)={\n",
       "    edge_index=[2, 20],\n",
       "    edge_attr=[20],\n",
       "  }\n",
       ")"
      ]
     },
     "execution_count": 39,
     "metadata": {},
     "output_type": "execute_result"
    }
   ],
   "source": [
    "graph"
   ]
  },
  {
   "cell_type": "code",
   "execution_count": 17,
   "id": "f3861abb-6af8-4bad-b510-362afdbabcf2",
   "metadata": {},
   "outputs": [],
   "source": [
    "\n",
    "# import torch.nn as nn\n",
    "# from torch_geometric.nn import GCNConv\n",
    "\n",
    "# class GNN_DQN_Agent(nn.Module):\n",
    "#     def __init__(self, input_dim, hidden_dim, action_dim):\n",
    "#         super(DQNGNN, self).__init__()\n",
    "#         self.conv1 = GCNConv(input_dim, hidden_dim)\n",
    "#         self.conv2 = GCNConv(hidden_dim, hidden_dim)\n",
    "#         self.fc = nn.Linear(hidden_dim, action_dim)\n",
    "\n",
    "#     def forward(self, x, edge_index):\n",
    "#         x = self.conv1(x, edge_index).relu()\n",
    "#         x = self.conv2(x, edge_index).relu()\n",
    "#         q_values = self.fc(x)\n",
    "#         return q_values"
   ]
  },
  {
   "cell_type": "code",
   "execution_count": 18,
   "id": "97ec8142-d7ff-4e00-9333-8ba77a63b621",
   "metadata": {},
   "outputs": [],
   "source": [
    "# Taken from the documentation https://pytorch-geometric.readthedocs.io/en/stable/notes/heterogeneous.html\n",
    "# from torch_geometric.nn import GATConv, Linear, to_hetero\n",
    "\n",
    "# num_actions = 25\n",
    "\n",
    "# class GAT(torch.nn.Module):\n",
    "#     def __init__(self, hidden_channels, out_channels):\n",
    "#         super().__init__()\n",
    "#         self.conv1 = GATConv((-1, -1), hidden_channels, add_self_loops=False)\n",
    "#         self.lin1 = Linear(-1, hidden_channels)\n",
    "#         self.conv2 = GATConv((-1, -1), out_channels, add_self_loops=False)\n",
    "#         self.lin2 = Linear(-1, out_channels)\n",
    "\n",
    "#     def forward(self, x, edge_index):\n",
    "#         x = self.conv1(x, edge_index) + self.lin1(x)\n",
    "#         x = x.relu()\n",
    "#         x = self.conv2(x, edge_index) + self.lin2(x)\n",
    "#         return x\n",
    "\n",
    "\n",
    "# model = GAT(hidden_channels=64, out_channels=num_actions)\n",
    "# model = to_hetero(model, graph.metadata(), aggr='sum')"
   ]
  },
  {
   "cell_type": "code",
   "execution_count": 23,
   "id": "fe8caa80-87ba-4b39-b2c3-65c0a9712ace",
   "metadata": {},
   "outputs": [],
   "source": [
    "# Taken from the documentation, too https://pytorch-geometric.readthedocs.io/en/stable/notes/heterogeneous.html\n",
    "import torch_geometric.transforms as T\n",
    "# from torch_geometric.datasets import OGB_MAG\n",
    "from torch_geometric.nn import SAGEConv, to_hetero\n",
    "\n",
    "num_actions = 25\n",
    "\n",
    "# dataset = OGB_MAG(root='./data', preprocess='metapath2vec', transform=T.ToUndirected())\n",
    "data = graph\n",
    "\n",
    "class GNN(torch.nn.Module):\n",
    "    def __init__(self, hidden_channels, out_channels):\n",
    "        super().__init__()\n",
    "        self.conv1 = SAGEConv((-1, -1), hidden_channels)\n",
    "        self.conv2 = SAGEConv((-1, -1), out_channels)\n",
    "\n",
    "    def forward(self, x, edge_index):\n",
    "        x = self.conv1(x, edge_index).relu()\n",
    "        x = self.conv2(x, edge_index)\n",
    "        return x\n",
    "\n",
    "\n",
    "model = GNN(hidden_channels=64, out_channels=num_actions)\n",
    "model = to_hetero(model, data.metadata(), aggr='sum')\n",
    "\n",
    "# Note\n",
    "# If we want to let messages be passed in both directions then we can convert the graph into undirected\n",
    "# import torch_geometric.transforms as T\n",
    "# data = T.ToUndirected()(data)\n"
   ]
  },
  {
   "cell_type": "code",
   "execution_count": 20,
   "id": "b723ed38-22aa-4c32-b0cb-e94278d8e8da",
   "metadata": {},
   "outputs": [
    {
     "data": {
      "text/plain": [
       "(['patient', 'timestep'],\n",
       " [('patient', 'to', 'timestep'), ('timestep', 'to', 'timestep')])"
      ]
     },
     "execution_count": 20,
     "metadata": {},
     "output_type": "execute_result"
    }
   ],
   "source": [
    "\n",
    "# data.metadata()"
   ]
  },
  {
   "cell_type": "code",
   "execution_count": 40,
   "id": "bd41149a-7a70-4b6e-ba21-d1d03da06fcd",
   "metadata": {},
   "outputs": [],
   "source": [
    "data = graph"
   ]
  },
  {
   "cell_type": "code",
   "execution_count": 41,
   "id": "a28c1b9b-1e03-4f88-99c0-b6aa55c27635",
   "metadata": {},
   "outputs": [],
   "source": [
    "with torch.no_grad():  # Initialize lazy modules.\n",
    "    out = model(data.x_dict, data.edge_index_dict)"
   ]
  },
  {
   "cell_type": "code",
   "execution_count": 26,
   "id": "322b1c2f-e3ae-407c-a3a5-81e9c75cb3f6",
   "metadata": {},
   "outputs": [
    {
     "data": {
      "text/plain": [
       "{'patient': tensor([[-1.8355e+08,  2.6512e+08,  1.0451e+09, -3.1577e+08,  8.7460e+08,\n",
       "           3.8660e+08, -6.3425e+07, -5.6955e+08, -1.1633e+09, -1.0965e+09,\n",
       "          -9.9315e+08,  1.6576e+09,  7.7405e+08,  1.5872e+08, -3.0918e+08,\n",
       "           1.0827e+08, -8.7755e+08,  3.3335e+08, -3.9115e+08, -4.2389e+08,\n",
       "          -5.2957e+08, -8.4399e+08,  9.4244e+08, -1.5308e+09,  9.4130e+08]]),\n",
       " 'timestep': tensor([[ 1.1748e+09,  1.3496e+09, -2.3367e+08, -1.4399e+09,  4.7409e+07,\n",
       "          -3.6693e+08, -1.1341e+09, -2.5111e+09, -6.6362e+08, -9.0351e+08,\n",
       "          -1.1194e+09,  8.0793e+07, -4.4441e+08,  1.2101e+08,  8.4049e+08,\n",
       "          -4.2966e+07, -1.2024e+09, -1.1215e+08, -9.5991e+08,  1.1301e+09,\n",
       "           1.1114e+09,  2.5230e+08,  4.2663e+08,  6.7458e+08, -7.0377e+08],\n",
       "         [ 2.0304e+09,  1.4012e+09, -2.1393e+08, -7.6534e+08, -1.9393e+08,\n",
       "          -1.1762e+09, -1.6628e+09, -2.0092e+09, -9.7625e+08, -1.2797e+09,\n",
       "          -1.0285e+09, -7.0516e+08, -2.0949e+08,  1.1533e+09,  1.6803e+09,\n",
       "           4.3541e+08, -1.2345e+09,  1.6686e+08, -1.8065e+09,  2.2515e+09,\n",
       "           8.1024e+08, -3.1615e+08,  4.0524e+08,  4.9202e+08, -7.7014e+07],\n",
       "         [ 2.2957e+09,  1.6080e+09, -1.9440e+08, -9.1418e+08,  1.8224e+08,\n",
       "          -1.0179e+09, -1.6784e+09, -2.0636e+09, -9.3510e+08, -1.0088e+09,\n",
       "          -1.1917e+09, -9.4749e+08,  7.9624e+07,  5.9324e+08,  1.5718e+09,\n",
       "           3.4717e+08, -1.5495e+09,  1.3005e+08, -1.5265e+09,  2.0078e+09,\n",
       "           5.9343e+08, -6.0957e+08,  5.6543e+08, -1.4244e+08, -4.3613e+07],\n",
       "         [ 2.2957e+09,  1.6080e+09, -1.9440e+08, -9.1418e+08,  1.8224e+08,\n",
       "          -1.0179e+09, -1.6784e+09, -2.0636e+09, -9.3510e+08, -1.0088e+09,\n",
       "          -1.1917e+09, -9.4750e+08,  7.9626e+07,  5.9324e+08,  1.5718e+09,\n",
       "           3.4717e+08, -1.5495e+09,  1.3005e+08, -1.5265e+09,  2.0078e+09,\n",
       "           5.9343e+08, -6.0957e+08,  5.6543e+08, -1.4245e+08, -4.3612e+07],\n",
       "         [ 2.2957e+09,  1.6080e+09, -1.9440e+08, -9.1418e+08,  1.8224e+08,\n",
       "          -1.0179e+09, -1.6784e+09, -2.0636e+09, -9.3510e+08, -1.0088e+09,\n",
       "          -1.1917e+09, -9.4750e+08,  7.9627e+07,  5.9324e+08,  1.5718e+09,\n",
       "           3.4717e+08, -1.5495e+09,  1.3005e+08, -1.5265e+09,  2.0078e+09,\n",
       "           5.9342e+08, -6.0958e+08,  5.6544e+08, -1.4245e+08, -4.3611e+07],\n",
       "         [ 2.2957e+09,  1.6080e+09, -1.9440e+08, -9.1418e+08,  1.8224e+08,\n",
       "          -1.0179e+09, -1.6784e+09, -2.0636e+09, -9.3510e+08, -1.0088e+09,\n",
       "          -1.1917e+09, -9.4750e+08,  7.9629e+07,  5.9324e+08,  1.5718e+09,\n",
       "           3.4717e+08, -1.5495e+09,  1.3005e+08, -1.5265e+09,  2.0078e+09,\n",
       "           5.9342e+08, -6.0958e+08,  5.6544e+08, -1.4245e+08, -4.3610e+07],\n",
       "         [ 2.2957e+09,  1.6080e+09, -1.9440e+08, -9.1418e+08,  1.8224e+08,\n",
       "          -1.0179e+09, -1.6784e+09, -2.0636e+09, -9.3511e+08, -1.0088e+09,\n",
       "          -1.1917e+09, -9.4750e+08,  7.9631e+07,  5.9324e+08,  1.5718e+09,\n",
       "           3.4717e+08, -1.5495e+09,  1.3005e+08, -1.5265e+09,  2.0078e+09,\n",
       "           5.9342e+08, -6.0958e+08,  5.6544e+08, -1.4245e+08, -4.3609e+07]])}"
      ]
     },
     "execution_count": 26,
     "metadata": {},
     "output_type": "execute_result"
    }
   ],
   "source": [
    "out"
   ]
  },
  {
   "cell_type": "code",
   "execution_count": null,
   "id": "6e72ed43-a11c-40ea-ad60-d0965e9c19e3",
   "metadata": {},
   "outputs": [],
   "source": [
    "\n"
   ]
  },
  {
   "cell_type": "code",
   "execution_count": null,
   "id": "9909d845-a86e-43d4-b851-0ff3a9feeaaa",
   "metadata": {},
   "outputs": [],
   "source": []
  },
  {
   "cell_type": "code",
   "execution_count": null,
   "id": "fc28ee9f-6b5e-4643-a07b-5c51cdac4d84",
   "metadata": {},
   "outputs": [],
   "source": [
    "# i get my inspiration from here\n",
    "# https://github.com/corl-team/CORL/blob/main/algorithms/offline/cql.py"
   ]
  },
  {
   "cell_type": "code",
   "execution_count": null,
   "id": "f2ba02c8-d347-4f84-8ad9-00c40f317b85",
   "metadata": {},
   "outputs": [],
   "source": []
  },
  {
   "cell_type": "code",
   "execution_count": 11,
   "id": "20b2790b-8433-4b91-9a96-795714acee2a",
   "metadata": {},
   "outputs": [],
   "source": [
    "# Im am here\n",
    "# was runing the import in the next cell to figure out which libraries are missing\n",
    "# no more libs are missing -> let's dig into the code\n",
    "# is it only for continious actions???? make sure it will work "
   ]
  },
  {
   "cell_type": "code",
   "execution_count": 12,
   "id": "7b07f0e8-c3e6-448c-96ba-2c391d465212",
   "metadata": {},
   "outputs": [],
   "source": [
    "# I can actually import stuff from python files easily\n",
    "from cql_adapted import print_hello"
   ]
  },
  {
   "cell_type": "code",
   "execution_count": null,
   "id": "700fe563-9c85-4acd-ace4-264a6745cc76",
   "metadata": {},
   "outputs": [],
   "source": []
  },
  {
   "cell_type": "code",
   "execution_count": null,
   "id": "d073200e-1898-4957-a9b0-0e30b80b7b21",
   "metadata": {},
   "outputs": [],
   "source": []
  },
  {
   "cell_type": "code",
   "execution_count": null,
   "id": "0e496ee5-980d-45f2-832d-76c546f2bbf8",
   "metadata": {},
   "outputs": [],
   "source": []
  },
  {
   "cell_type": "code",
   "execution_count": null,
   "id": "195b54f7-73bf-44d1-9b2b-0b8969268358",
   "metadata": {},
   "outputs": [],
   "source": [
    "# from my internship"
   ]
  },
  {
   "cell_type": "code",
   "execution_count": null,
   "id": "df15cfc1-0e1e-4dd7-a2c0-28cc6fcfbada",
   "metadata": {},
   "outputs": [],
   "source": [
    "# Define the environment\n",
    "class DynamicGraphEnvironment:\n",
    "    def __init__(self):\n",
    "        self.graph = nx.Graph()\n",
    "        G = nx.Graph()\n",
    "        G.add_node(1)\n",
    "        G.add_node(2)\n",
    "        self.step_count = 0\n",
    "    \n",
    "    def step(self):\n",
    "        # Simulate a new node being added to the graph\n",
    "        new_node = self.graph.number_of_nodes()\n",
    "        self.graph.add_node(new_node)\n",
    "        return new_node\n",
    "\n",
    "# Define the Graph Neural Network (GNN) model\n",
    "class GNN(torch.nn.Module):\n",
    "    def __init__(self, input_dim, hidden_dim, output_dim, output_num):\n",
    "        super(GNN, self).__init__()\n",
    "        self.gcn_layer = nn.GraphConv(input_dim, hidden_dim)\n",
    "        self.linear_layer = nn.Linear(hidden_dim, output_dim)\n",
    "        \n",
    "    \n",
    "    def forward(self, node_features, edge_index):\n",
    "        h = self.gcn_layer(x=node_features, edge_index=edge_index)\n",
    "        h = self.linear_layer(h)\n",
    "        probabilities = F.softmax(h, dim=-1)\n",
    "        return probabilities\n",
    "\n",
    "\n",
    "def adjacency_matrix_to_edge_index(adjacency_matrix):\n",
    "    # Convert the scipy csr_matrix to a COO (Coordinate) format, which is compatible with torch\n",
    "    coo_matrix = adjacency_matrix.tocoo()\n",
    "    # Create a torch tensor for the non-zero elements' indices\n",
    "    edge_index = torch.tensor([coo_matrix.row, coo_matrix.col], dtype=torch.long)\n",
    "    # edge_index = torch.nonzero(adjacency_matrix)\n",
    "    return edge_index.t().contiguous()\n",
    "\n",
    "\n",
    "# Define the reinforcement learning agent\n",
    "class RLAgent:\n",
    "    def __init__(self, state_dim, action_dim, action_num):\n",
    "        self.state_dim = state_dim\n",
    "        self.model = GNN(state_dim, HIDDEN_DIM, action_dim, action_num)\n",
    "        self.action_num = action_num\n",
    "        self.optimizer = optim.Adam(self.model.parameters(), lr=0.001)\n",
    "    \n",
    "    def select_action(self, state):\n",
    "        \n",
    "        number_of_nodes = env.graph.number_of_nodes()\n",
    "        # mock_features = torch.randn(number_of_nodes, self.state_dim)\n",
    "        mock_features = torch.ones(number_of_nodes, self.state_dim)\n",
    "        self.x = mock_features\n",
    "        \n",
    "        pyg_graph = from_networkx(state)\n",
    "        \n",
    "        \n",
    "        if random.uniform(0, 1) < EPSILON:\n",
    "            action = np.random.randint(self.action_num) # Explore action space\n",
    "        \n",
    "        action_probs = self.model(node_features=self.x, edge_index=pyg_graph.edge_index)\n",
    "        # action_probs = self.model(node_features=pyg_graph.x, edge_index=pyg_graph.edge_index)\n",
    "        action = torch.argmax(action_probs)\n",
    "        \n",
    "        return action.item()\n",
    "        # return 0\n",
    "    \n",
    "    def update(self, state, action, reward):\n",
    "        self.optimizer.zero_grad()\n",
    "        pyg_graph = from_networkx(state)\n",
    "        action_probs = self.model(node_features=self.x, edge_index=pyg_graph.edge_index)\n",
    "        loss = -action_probs[action] * reward\n",
    "        loss.backward()\n",
    "        self.optimizer.step()\n",
    "        pass\n",
    "\n",
    "# Define a reward function\n",
    "def calculate_reward(node_created, link_created, target_node):\n",
    "    if link_created:\n",
    "        return 1.0\n",
    "    return -1.0  # Penalize if no link created\n",
    "\n",
    "# Training loop\n",
    "env = DynamicGraphEnvironment()\n",
    "# agent = RLAgent(state_dim=env.graph.number_of_nodes(), action_dim=1)\n",
    "feature_dim = 10\n",
    "agent = RLAgent(state_dim=feature_dim, action_dim=1, action_num=2)\n",
    "\n",
    "for episode in range(1000):\n",
    "    #state is a graph\n",
    "    state = env.graph\n",
    "    new_node = env.step()\n",
    "    \n",
    "    action = agent.select_action(state)\n",
    "    print(f\"Action {action}\")\n",
    "    link_created = action == new_node\n",
    "    reward = calculate_reward(new_node, link_created, target_node=new_node)\n",
    "    \n",
    "    agent.update(state, action, reward)\n",
    "    \n",
    "    print(f\"Episode {episode + 1}: Reward {reward}\")"
   ]
  },
  {
   "cell_type": "code",
   "execution_count": null,
   "id": "1c6b50dc-5ac0-4cf0-a3b7-a928f302d4c2",
   "metadata": {},
   "outputs": [],
   "source": [
    "time_variant_properties = ['step', 'm:charttime',\n",
    "        'o:mechvent', 'o:max_dose_vaso', 'o:re_admission',\n",
    "       'o:Weight_kg', 'o:GCS', 'o:HR', 'o:SysBP', 'o:MeanBP', 'o:DiaBP',\n",
    "       'o:RR', 'o:Temp_C', 'o:FiO2_1', 'o:Potassium', 'o:Sodium', 'o:Chloride',\n",
    "       'o:Glucose', 'o:Magnesium', 'o:Calcium', 'o:Hb', 'o:WBC_count',\n",
    "       'o:Platelets_count', 'o:PTT', 'o:PT', 'o:Arterial_pH', 'o:paO2',\n",
    "       'o:paCO2', 'o:Arterial_BE', 'o:HCO3', 'o:Arterial_lactate', 'o:SOFA',\n",
    "       'o:SIRS', 'o:Shock_Index', 'o:PaO2_FiO2', 'o:cumulated_balance',\n",
    "       'o:SpO2', 'o:BUN', 'o:Creatinine', 'o:SGOT', 'o:SGPT', 'o:Total_bili',\n",
    "       'o:INR', 'o:input_total', 'o:input_4hourly', 'o:output_total',\n",
    "       'o:output_4hourly', 'a:action', 'r:reward']"
   ]
  },
  {
   "cell_type": "code",
   "execution_count": null,
   "id": "4fbcc463-c3ee-4b9b-8169-38275d25a96d",
   "metadata": {},
   "outputs": [],
   "source": [
    "def clean_name_of_column(old_name: str):\n",
    "    if ':' in old_name:\n",
    "        # Use regex to capture the part after the colon\n",
    "        match = re.search(r':\\s*(.+)', old_name)\n",
    "        return match.group(1).strip()\n",
    "    else:\n",
    "        # If no colon, return the whole text stripped\n",
    "        return old_name.strip()"
   ]
  },
  {
   "cell_type": "code",
   "execution_count": null,
   "id": "7c99f24c-cb20-41f0-8ead-051f86f2503a",
   "metadata": {},
   "outputs": [],
   "source": [
    "from neo4j import GraphDatabase\n",
    "import networkx as nx\n",
    "\n",
    "class Neo4jToNetworkX:\n",
    "    def __init__(self, uri, user, password):\n",
    "        self.driver = GraphDatabase.driver(uri, auth=(user, password))\n",
    "\n",
    "    def fetch_graph(self):\n",
    "        with self.driver.session() as session:\n",
    "            # Fetch nodes\n",
    "            nodes_query = \"\"\"\n",
    "            MATCH (n)\n",
    "            RETURN id(n) AS node_id, n.name AS name\n",
    "            \"\"\"\n",
    "            nodes = session.run(nodes_query)\n",
    "\n",
    "            # Fetch edges\n",
    "            edges_query = \"\"\"\n",
    "            MATCH (n)-[r]->(m)\n",
    "            RETURN id(n) AS source, id(m) AS target, r.weight AS weight\n",
    "            \"\"\"\n",
    "            edges = session.run(edges_query)\n",
    "\n",
    "            # Create NetworkX graph\n",
    "            G = nx.DiGraph()  # Use `` for undirected graphs\n",
    "\n",
    "            # Add nodes\n",
    "            for record in nodes:\n",
    "                G.add_node(record[\"node_id\"], name=record[\"name\"])\n",
    "\n",
    "            # Add edges\n",
    "            for record in edges:\n",
    "                G.add_edge(\n",
    "                    record[\"source\"], \n",
    "                    record[\"target\"], \n",
    "                    weight=record.get(\"weight\", 1.0)  # Default weight if none\n",
    "                )\n",
    "\n",
    "            return G\n",
    "\n",
    "# Example usage\n",
    "converter = Neo4jToNetworkX(\"bolt://localhost:7687\", \"neo4j\", \"password\")\n",
    "graph = converter.fetch_graph()"
   ]
  },
  {
   "cell_type": "code",
   "execution_count": 35,
   "id": "13e893f0-bd0d-4b1d-bb43-9c064537a210",
   "metadata": {},
   "outputs": [
    {
     "ename": "TypeError",
     "evalue": "unhashable type: 'dict'",
     "output_type": "error",
     "traceback": [
      "\u001b[0;31m---------------------------------------------------------------------------\u001b[0m",
      "\u001b[0;31mTypeError\u001b[0m                                 Traceback (most recent call last)",
      "Cell \u001b[0;32mIn[35], line 3\u001b[0m\n\u001b[1;32m      1\u001b[0m G \u001b[38;5;241m=\u001b[39m nx\u001b[38;5;241m.\u001b[39mGraph()\n\u001b[0;32m----> 3\u001b[0m \u001b[43mG\u001b[49m\u001b[38;5;241;43m.\u001b[39;49m\u001b[43madd_node\u001b[49m\u001b[43m(\u001b[49m\u001b[43mpatient\u001b[49m\u001b[43m)\u001b[49m\n",
      "File \u001b[0;32m~/.local/share/virtualenvs/code-hg2tXaqu/lib/python3.12/site-packages/networkx/classes/graph.py:563\u001b[0m, in \u001b[0;36mGraph.add_node\u001b[0;34m(self, node_for_adding, **attr)\u001b[0m\n\u001b[1;32m    524\u001b[0m \u001b[38;5;28;01mdef\u001b[39;00m \u001b[38;5;21madd_node\u001b[39m(\u001b[38;5;28mself\u001b[39m, node_for_adding, \u001b[38;5;241m*\u001b[39m\u001b[38;5;241m*\u001b[39mattr):\n\u001b[1;32m    525\u001b[0m \u001b[38;5;250m    \u001b[39m\u001b[38;5;124;03m\"\"\"Add a single node `node_for_adding` and update node attributes.\u001b[39;00m\n\u001b[1;32m    526\u001b[0m \n\u001b[1;32m    527\u001b[0m \u001b[38;5;124;03m    Parameters\u001b[39;00m\n\u001b[0;32m   (...)\u001b[0m\n\u001b[1;32m    561\u001b[0m \u001b[38;5;124;03m    doesn't change on mutables.\u001b[39;00m\n\u001b[1;32m    562\u001b[0m \u001b[38;5;124;03m    \"\"\"\u001b[39;00m\n\u001b[0;32m--> 563\u001b[0m     \u001b[38;5;28;01mif\u001b[39;00m \u001b[43mnode_for_adding\u001b[49m\u001b[43m \u001b[49m\u001b[38;5;129;43;01mnot\u001b[39;49;00m\u001b[43m \u001b[49m\u001b[38;5;129;43;01min\u001b[39;49;00m\u001b[43m \u001b[49m\u001b[38;5;28;43mself\u001b[39;49m\u001b[38;5;241;43m.\u001b[39;49m\u001b[43m_node\u001b[49m:\n\u001b[1;32m    564\u001b[0m         \u001b[38;5;28;01mif\u001b[39;00m node_for_adding \u001b[38;5;129;01mis\u001b[39;00m \u001b[38;5;28;01mNone\u001b[39;00m:\n\u001b[1;32m    565\u001b[0m             \u001b[38;5;28;01mraise\u001b[39;00m \u001b[38;5;167;01mValueError\u001b[39;00m(\u001b[38;5;124m\"\u001b[39m\u001b[38;5;124mNone cannot be a node\u001b[39m\u001b[38;5;124m\"\u001b[39m)\n",
      "\u001b[0;31mTypeError\u001b[0m: unhashable type: 'dict'"
     ]
    }
   ],
   "source": [
    "G = nx.Graph()\n",
    "\n",
    "G.add_node(patient)"
   ]
  },
  {
   "cell_type": "code",
   "execution_count": null,
   "id": "175b8fce-9f61-4d0a-8a60-8862b2714490",
   "metadata": {},
   "outputs": [],
   "source": []
  }
 ],
 "metadata": {
  "kernelspec": {
   "display_name": "my-virtualenv-name",
   "language": "python",
   "name": "my-virtualenv-name"
  },
  "language_info": {
   "codemirror_mode": {
    "name": "ipython",
    "version": 3
   },
   "file_extension": ".py",
   "mimetype": "text/x-python",
   "name": "python",
   "nbconvert_exporter": "python",
   "pygments_lexer": "ipython3",
   "version": "3.10.13"
  }
 },
 "nbformat": 4,
 "nbformat_minor": 5
}
