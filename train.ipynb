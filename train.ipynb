{
 "cells": [
  {
   "cell_type": "code",
   "execution_count": 9,
   "id": "f7e90cbd-2886-4a1f-a7dc-1a3e05123ca4",
   "metadata": {},
   "outputs": [],
   "source": [
    "from neo4j import GraphDatabase\n",
    "from dotenv import load_dotenv\n",
    "import os\n",
    "\n",
    "load_dotenv()\n",
    "neo4j_url = os.environ.get(\"NEO4J_URI\")\n",
    "neo4j_username = os.environ.get(\"NEO4J_USERNAME\")\n",
    "neo4j_password = os.environ.get(\"NEO4J_PASSWORD\")\n",
    "\n",
    "# Initialize the Neo4j driver\n",
    "driver = GraphDatabase.driver(neo4j_url, auth=(neo4j_username, neo4j_password))"
   ]
  },
  {
   "cell_type": "code",
   "execution_count": 10,
   "id": "2cb7fe47-15d8-4b19-a9f3-79121808d8e6",
   "metadata": {},
   "outputs": [],
   "source": [
    "import networkx as nx"
   ]
  },
  {
   "cell_type": "code",
   "execution_count": 15,
   "id": "93a4f45d-2f4d-4ddf-b0a4-f4b0ae05fb16",
   "metadata": {},
   "outputs": [],
   "source": [
    "from torch_geometric.data import HeteroData\n",
    "import torch"
   ]
  },
  {
   "cell_type": "code",
   "execution_count": null,
   "id": "738e6a40-b1dd-48b4-b44f-838bc723da0b",
   "metadata": {},
   "outputs": [],
   "source": [
    "\n",
    "# Example from docs, do not execute. \n",
    "# https://pytorch-geometric.readthedocs.io/en/2.5.0/generated/torch_geometric.data.HeteroData.html\n",
    "# data = HeteroData()\n",
    "\n",
    "# data['paper'].x = ... # [num_papers, num_features_paper]\n",
    "# data['author'].x = ... # [num_authors, num_features_author]\n",
    "# data['institution'].x = ... # [num_institutions, num_features_institution]\n",
    "# data['field_of_study'].x = ... # [num_field, num_features_field]\n",
    "\n",
    "# data['paper', 'cites', 'paper'].edge_index = ... # [2, num_edges_cites]\n",
    "# data['author', 'writes', 'paper'].edge_index = ... # [2, num_edges_writes]\n",
    "# data['author', 'affiliated_with', 'institution'].edge_index = ... # [2, num_edges_affiliated]\n",
    "# data['paper', 'has_topic', 'field_of_study'].edge_index = ... # [2, num_edges_topic]\n",
    "\n",
    "# data['paper', 'cites', 'paper'].edge_attr = ... # [num_edges_cites, num_features_cites]\n",
    "# data['author', 'writes', 'paper'].edge_attr = ... # [num_edges_writes, num_features_writes]\n",
    "# data['author', 'affiliated_with', 'institution'].edge_attr = ... # [num_edges_affiliated, num_features_affiliated]\n",
    "# data['paper', 'has_topic', 'field_of_study'].edge_attr = ... # [num_edges_topic, num_features_topic]\n",
    "\n"
   ]
  },
  {
   "cell_type": "code",
   "execution_count": 12,
   "id": "878507fb-cb26-4bd4-9e53-0e52da386f5a",
   "metadata": {},
   "outputs": [
    {
     "name": "stdout",
     "output_type": "stream",
     "text": [
      "len(records)=7\n"
     ]
    }
   ],
   "source": [
    "traj = 7\n",
    "query_patient_timestep = \"\"\"\n",
    "MATCH (p:Patient {traj:  $traj})-[has_timestep]->(ts:TimeStep)\n",
    "RETURN p, ts\n",
    "LIMIT 20;\n",
    "\"\"\"\n",
    "\n",
    "query_actions = \"\"\"\n",
    "MATCH (p:Patient {traj: $traj})-[]->(:TimeStep)-[action]->(:TimeStep)\n",
    "RETURN action\n",
    "LIMIT 20;\n",
    "\"\"\"\n",
    "\n",
    "records, summary, keys = driver.execute_query(\n",
    "    query_patient_timestep, traj=traj,\n",
    "    \n",
    ")\n",
    "print(f'{len(records)=}')\n",
    "patient = records[0].data()['p']\n",
    "time_steps = [record.data()['ts'] for record in records]\n",
    "# for record in records:\n",
    "#     print(record.data())\n",
    "\n",
    "records, summary, keys = driver.execute_query(\n",
    "    query_actions, traj=traj,\n",
    "    \n",
    ")\n",
    "actions = [record[\"action\"]._properties for record in records]"
   ]
  },
  {
   "cell_type": "code",
   "execution_count": 24,
   "id": "65cc0cd4-0592-41cf-98bf-63ac7a141b2e",
   "metadata": {},
   "outputs": [],
   "source": [
    "graph = HeteroData()\n",
    "# Add patient nodes\n",
    "patient_data = torch.tensor([list(patient.values())]) # shape should be (num patients, num features)\n",
    "graph['patient'].x = patient_data\n"
   ]
  },
  {
   "cell_type": "code",
   "execution_count": 26,
   "id": "863c5f04-c50c-4d49-84e1-af326b58e1c0",
   "metadata": {},
   "outputs": [],
   "source": [
    "# Add TimeStep nodes for this patient\n",
    "timestepdata = []\n",
    "for timestep in time_steps:\n",
    "    timestepdata.append(list(timestep.values()))\n",
    "\n",
    "graph['timestep'].x = torch.FloatTensor(timestepdata)"
   ]
  },
  {
   "cell_type": "code",
   "execution_count": null,
   "id": "d7fd7ece-7ebd-4ed1-9add-6d12652d0cc2",
   "metadata": {},
   "outputs": [],
   "source": [
    "\n",
    "\n",
    "\n"
   ]
  },
  {
   "cell_type": "code",
   "execution_count": null,
   "id": "46be6fad-6f14-4248-92f3-a8914f5c33ae",
   "metadata": {},
   "outputs": [],
   "source": []
  },
  {
   "cell_type": "code",
   "execution_count": null,
   "id": "97be526e-6429-45df-ad51-c6b50e1d4e59",
   "metadata": {},
   "outputs": [],
   "source": []
  },
  {
   "cell_type": "code",
   "execution_count": 35,
   "id": "ee23f949-8f9d-469c-9858-a221814f836d",
   "metadata": {},
   "outputs": [
    {
     "name": "stdout",
     "output_type": "stream",
     "text": [
      "HeteroData(\n",
      "  patient={ x=[1, 6] },\n",
      "  timestep={ x=[7, 48] },\n",
      "  (patient, to, timestep)={ edge_index=[2, 8] }\n",
      ")\n"
     ]
    }
   ],
   "source": [
    "# Add edges between patient and timestep\n",
    "num_timesteps = graph['timestep'].x.size()[0]\n",
    "patient_to_timestep_edge_index = torch.tensor([\n",
    "    [0] * 8,  # Patient node repeated 8 times (source nodes)\n",
    "    list(range(num_timesteps+1))  # Timestep node indices (target nodes)\n",
    "])\n",
    "\n",
    "graph[\"patient\", \"to\", \"timestep\"].edge_index = patient_to_timestep_edge_index\n",
    "\n",
    "print(graph)"
   ]
  },
  {
   "cell_type": "code",
   "execution_count": 36,
   "id": "770041f6-d4d2-492d-8d07-4d2f516e5925",
   "metadata": {},
   "outputs": [
    {
     "name": "stdout",
     "output_type": "stream",
     "text": [
      "HeteroData(\n",
      "  patient={ x=[1, 6] },\n",
      "  timestep={ x=[7, 48] },\n",
      "  (patient, to, timestep)={ edge_index=[2, 8] },\n",
      "  (timestep, to, timestep)={ edge_index=[2, 7] }\n",
      ")\n"
     ]
    }
   ],
   "source": [
    "# Add edges between timesteps\n",
    "timestep_to_timestep_edge_index = torch.tensor([\n",
    "    list(range(num_timesteps)),  #source timestep nodes\n",
    "    list(range(1, num_timesteps+1))  #target timestep nodes\n",
    "])\n",
    "\n",
    "graph[\"timestep\", \"to\", \"timestep\"].edge_index = timestep_to_timestep_edge_index\n",
    "\n",
    "print(graph)"
   ]
  },
  {
   "cell_type": "code",
   "execution_count": 42,
   "id": "8bf060a7-3b47-4ce5-bc59-475c3be0c061",
   "metadata": {},
   "outputs": [],
   "source": []
  },
  {
   "cell_type": "code",
   "execution_count": 44,
   "id": "7153616a-37f7-4a76-a187-6a68b3808a08",
   "metadata": {},
   "outputs": [],
   "source": [
    "# Add property(action) to the edges between timesteps\n",
    "actions_values = [action['action'] for action in actions]\n",
    "graph[\"timestep\", \"to\", \"timestep\"].edge_attr = actions_values"
   ]
  },
  {
   "cell_type": "code",
   "execution_count": 45,
   "id": "b644ea95-6c3c-47fd-bc7d-e783c227bd2b",
   "metadata": {},
   "outputs": [
    {
     "data": {
      "text/plain": [
       "HeteroData(\n",
       "  patient={ x=[1, 6] },\n",
       "  timestep={ x=[7, 48] },\n",
       "  (patient, to, timestep)={ edge_index=[2, 8] },\n",
       "  (timestep, to, timestep)={\n",
       "    edge_index=[2, 7],\n",
       "    edge_attr=[6],\n",
       "  }\n",
       ")"
      ]
     },
     "execution_count": 45,
     "metadata": {},
     "output_type": "execute_result"
    }
   ],
   "source": [
    "graph"
   ]
  },
  {
   "cell_type": "code",
   "execution_count": 47,
   "id": "f3861abb-6af8-4bad-b510-362afdbabcf2",
   "metadata": {},
   "outputs": [],
   "source": [
    "\n",
    "import torch.nn as nn\n",
    "from torch_geometric.nn import GCNConv\n",
    "\n",
    "class GNN_DQN_Agent(nn.Module):\n",
    "    def __init__(self, input_dim, hidden_dim, action_dim):\n",
    "        super(DQNGNN, self).__init__()\n",
    "        self.conv1 = GCNConv(input_dim, hidden_dim)\n",
    "        self.conv2 = GCNConv(hidden_dim, hidden_dim)\n",
    "        self.fc = nn.Linear(hidden_dim, action_dim)\n",
    "\n",
    "    def forward(self, x, edge_index):\n",
    "        x = self.conv1(x, edge_index).relu()\n",
    "        x = self.conv2(x, edge_index).relu()\n",
    "        q_values = self.fc(x)\n",
    "        return q_values"
   ]
  },
  {
   "cell_type": "code",
   "execution_count": null,
   "id": "df15cfc1-0e1e-4dd7-a2c0-28cc6fcfbada",
   "metadata": {},
   "outputs": [],
   "source": [
    "# Define the environment\n",
    "class DynamicGraphEnvironment:\n",
    "    def __init__(self):\n",
    "        self.graph = nx.Graph()\n",
    "        G = nx.Graph()\n",
    "        G.add_node(1)\n",
    "        G.add_node(2)\n",
    "        self.step_count = 0\n",
    "    \n",
    "    def step(self):\n",
    "        # Simulate a new node being added to the graph\n",
    "        new_node = self.graph.number_of_nodes()\n",
    "        self.graph.add_node(new_node)\n",
    "        return new_node\n",
    "\n",
    "# Define the Graph Neural Network (GNN) model\n",
    "class GNN(torch.nn.Module):\n",
    "    def __init__(self, input_dim, hidden_dim, output_dim, output_num):\n",
    "        super(GNN, self).__init__()\n",
    "        self.gcn_layer = nn.GraphConv(input_dim, hidden_dim)\n",
    "        self.linear_layer = nn.Linear(hidden_dim, output_dim)\n",
    "        \n",
    "    \n",
    "    def forward(self, node_features, edge_index):\n",
    "        h = self.gcn_layer(x=node_features, edge_index=edge_index)\n",
    "        h = self.linear_layer(h)\n",
    "        probabilities = F.softmax(h, dim=-1)\n",
    "        return probabilities\n",
    "\n",
    "\n",
    "def adjacency_matrix_to_edge_index(adjacency_matrix):\n",
    "    # Convert the scipy csr_matrix to a COO (Coordinate) format, which is compatible with torch\n",
    "    coo_matrix = adjacency_matrix.tocoo()\n",
    "    # Create a torch tensor for the non-zero elements' indices\n",
    "    edge_index = torch.tensor([coo_matrix.row, coo_matrix.col], dtype=torch.long)\n",
    "    # edge_index = torch.nonzero(adjacency_matrix)\n",
    "    return edge_index.t().contiguous()\n",
    "\n",
    "\n",
    "# Define the reinforcement learning agent\n",
    "class RLAgent:\n",
    "    def __init__(self, state_dim, action_dim, action_num):\n",
    "        self.state_dim = state_dim\n",
    "        self.model = GNN(state_dim, HIDDEN_DIM, action_dim, action_num)\n",
    "        self.action_num = action_num\n",
    "        self.optimizer = optim.Adam(self.model.parameters(), lr=0.001)\n",
    "    \n",
    "    def select_action(self, state):\n",
    "        \n",
    "        number_of_nodes = env.graph.number_of_nodes()\n",
    "        # mock_features = torch.randn(number_of_nodes, self.state_dim)\n",
    "        mock_features = torch.ones(number_of_nodes, self.state_dim)\n",
    "        self.x = mock_features\n",
    "        \n",
    "        pyg_graph = from_networkx(state)\n",
    "        \n",
    "        \n",
    "        if random.uniform(0, 1) < EPSILON:\n",
    "            action = np.random.randint(self.action_num) # Explore action space\n",
    "        \n",
    "        action_probs = self.model(node_features=self.x, edge_index=pyg_graph.edge_index)\n",
    "        # action_probs = self.model(node_features=pyg_graph.x, edge_index=pyg_graph.edge_index)\n",
    "        action = torch.argmax(action_probs)\n",
    "        \n",
    "        return action.item()\n",
    "        # return 0\n",
    "    \n",
    "    def update(self, state, action, reward):\n",
    "        self.optimizer.zero_grad()\n",
    "        pyg_graph = from_networkx(state)\n",
    "        action_probs = self.model(node_features=self.x, edge_index=pyg_graph.edge_index)\n",
    "        loss = -action_probs[action] * reward\n",
    "        loss.backward()\n",
    "        self.optimizer.step()\n",
    "        pass\n",
    "\n",
    "# Define a reward function\n",
    "def calculate_reward(node_created, link_created, target_node):\n",
    "    if link_created:\n",
    "        return 1.0\n",
    "    return -1.0  # Penalize if no link created\n",
    "\n",
    "# Training loop\n",
    "env = DynamicGraphEnvironment()\n",
    "# agent = RLAgent(state_dim=env.graph.number_of_nodes(), action_dim=1)\n",
    "feature_dim = 10\n",
    "agent = RLAgent(state_dim=feature_dim, action_dim=1, action_num=2)\n",
    "\n",
    "for episode in range(1000):\n",
    "    #state is a graph\n",
    "    state = env.graph\n",
    "    new_node = env.step()\n",
    "    \n",
    "    action = agent.select_action(state)\n",
    "    print(f\"Action {action}\")\n",
    "    link_created = action == new_node\n",
    "    reward = calculate_reward(new_node, link_created, target_node=new_node)\n",
    "    \n",
    "    agent.update(state, action, reward)\n",
    "    \n",
    "    print(f\"Episode {episode + 1}: Reward {reward}\")"
   ]
  },
  {
   "cell_type": "code",
   "execution_count": null,
   "id": "1c6b50dc-5ac0-4cf0-a3b7-a928f302d4c2",
   "metadata": {},
   "outputs": [],
   "source": [
    "time_variant_properties = ['step', 'm:charttime',\n",
    "        'o:mechvent', 'o:max_dose_vaso', 'o:re_admission',\n",
    "       'o:Weight_kg', 'o:GCS', 'o:HR', 'o:SysBP', 'o:MeanBP', 'o:DiaBP',\n",
    "       'o:RR', 'o:Temp_C', 'o:FiO2_1', 'o:Potassium', 'o:Sodium', 'o:Chloride',\n",
    "       'o:Glucose', 'o:Magnesium', 'o:Calcium', 'o:Hb', 'o:WBC_count',\n",
    "       'o:Platelets_count', 'o:PTT', 'o:PT', 'o:Arterial_pH', 'o:paO2',\n",
    "       'o:paCO2', 'o:Arterial_BE', 'o:HCO3', 'o:Arterial_lactate', 'o:SOFA',\n",
    "       'o:SIRS', 'o:Shock_Index', 'o:PaO2_FiO2', 'o:cumulated_balance',\n",
    "       'o:SpO2', 'o:BUN', 'o:Creatinine', 'o:SGOT', 'o:SGPT', 'o:Total_bili',\n",
    "       'o:INR', 'o:input_total', 'o:input_4hourly', 'o:output_total',\n",
    "       'o:output_4hourly', 'a:action', 'r:reward']"
   ]
  },
  {
   "cell_type": "code",
   "execution_count": null,
   "id": "4fbcc463-c3ee-4b9b-8169-38275d25a96d",
   "metadata": {},
   "outputs": [],
   "source": [
    "def clean_name_of_column(old_name: str):\n",
    "    if ':' in old_name:\n",
    "        # Use regex to capture the part after the colon\n",
    "        match = re.search(r':\\s*(.+)', old_name)\n",
    "        return match.group(1).strip()\n",
    "    else:\n",
    "        # If no colon, return the whole text stripped\n",
    "        return old_name.strip()"
   ]
  },
  {
   "cell_type": "code",
   "execution_count": null,
   "id": "7c99f24c-cb20-41f0-8ead-051f86f2503a",
   "metadata": {},
   "outputs": [],
   "source": [
    "from neo4j import GraphDatabase\n",
    "import networkx as nx\n",
    "\n",
    "class Neo4jToNetworkX:\n",
    "    def __init__(self, uri, user, password):\n",
    "        self.driver = GraphDatabase.driver(uri, auth=(user, password))\n",
    "\n",
    "    def fetch_graph(self):\n",
    "        with self.driver.session() as session:\n",
    "            # Fetch nodes\n",
    "            nodes_query = \"\"\"\n",
    "            MATCH (n)\n",
    "            RETURN id(n) AS node_id, n.name AS name\n",
    "            \"\"\"\n",
    "            nodes = session.run(nodes_query)\n",
    "\n",
    "            # Fetch edges\n",
    "            edges_query = \"\"\"\n",
    "            MATCH (n)-[r]->(m)\n",
    "            RETURN id(n) AS source, id(m) AS target, r.weight AS weight\n",
    "            \"\"\"\n",
    "            edges = session.run(edges_query)\n",
    "\n",
    "            # Create NetworkX graph\n",
    "            G = nx.DiGraph()  # Use `` for undirected graphs\n",
    "\n",
    "            # Add nodes\n",
    "            for record in nodes:\n",
    "                G.add_node(record[\"node_id\"], name=record[\"name\"])\n",
    "\n",
    "            # Add edges\n",
    "            for record in edges:\n",
    "                G.add_edge(\n",
    "                    record[\"source\"], \n",
    "                    record[\"target\"], \n",
    "                    weight=record.get(\"weight\", 1.0)  # Default weight if none\n",
    "                )\n",
    "\n",
    "            return G\n",
    "\n",
    "# Example usage\n",
    "converter = Neo4jToNetworkX(\"bolt://localhost:7687\", \"neo4j\", \"password\")\n",
    "graph = converter.fetch_graph()"
   ]
  },
  {
   "cell_type": "code",
   "execution_count": 35,
   "id": "13e893f0-bd0d-4b1d-bb43-9c064537a210",
   "metadata": {},
   "outputs": [
    {
     "ename": "TypeError",
     "evalue": "unhashable type: 'dict'",
     "output_type": "error",
     "traceback": [
      "\u001b[0;31m---------------------------------------------------------------------------\u001b[0m",
      "\u001b[0;31mTypeError\u001b[0m                                 Traceback (most recent call last)",
      "Cell \u001b[0;32mIn[35], line 3\u001b[0m\n\u001b[1;32m      1\u001b[0m G \u001b[38;5;241m=\u001b[39m nx\u001b[38;5;241m.\u001b[39mGraph()\n\u001b[0;32m----> 3\u001b[0m \u001b[43mG\u001b[49m\u001b[38;5;241;43m.\u001b[39;49m\u001b[43madd_node\u001b[49m\u001b[43m(\u001b[49m\u001b[43mpatient\u001b[49m\u001b[43m)\u001b[49m\n",
      "File \u001b[0;32m~/.local/share/virtualenvs/code-hg2tXaqu/lib/python3.12/site-packages/networkx/classes/graph.py:563\u001b[0m, in \u001b[0;36mGraph.add_node\u001b[0;34m(self, node_for_adding, **attr)\u001b[0m\n\u001b[1;32m    524\u001b[0m \u001b[38;5;28;01mdef\u001b[39;00m \u001b[38;5;21madd_node\u001b[39m(\u001b[38;5;28mself\u001b[39m, node_for_adding, \u001b[38;5;241m*\u001b[39m\u001b[38;5;241m*\u001b[39mattr):\n\u001b[1;32m    525\u001b[0m \u001b[38;5;250m    \u001b[39m\u001b[38;5;124;03m\"\"\"Add a single node `node_for_adding` and update node attributes.\u001b[39;00m\n\u001b[1;32m    526\u001b[0m \n\u001b[1;32m    527\u001b[0m \u001b[38;5;124;03m    Parameters\u001b[39;00m\n\u001b[0;32m   (...)\u001b[0m\n\u001b[1;32m    561\u001b[0m \u001b[38;5;124;03m    doesn't change on mutables.\u001b[39;00m\n\u001b[1;32m    562\u001b[0m \u001b[38;5;124;03m    \"\"\"\u001b[39;00m\n\u001b[0;32m--> 563\u001b[0m     \u001b[38;5;28;01mif\u001b[39;00m \u001b[43mnode_for_adding\u001b[49m\u001b[43m \u001b[49m\u001b[38;5;129;43;01mnot\u001b[39;49;00m\u001b[43m \u001b[49m\u001b[38;5;129;43;01min\u001b[39;49;00m\u001b[43m \u001b[49m\u001b[38;5;28;43mself\u001b[39;49m\u001b[38;5;241;43m.\u001b[39;49m\u001b[43m_node\u001b[49m:\n\u001b[1;32m    564\u001b[0m         \u001b[38;5;28;01mif\u001b[39;00m node_for_adding \u001b[38;5;129;01mis\u001b[39;00m \u001b[38;5;28;01mNone\u001b[39;00m:\n\u001b[1;32m    565\u001b[0m             \u001b[38;5;28;01mraise\u001b[39;00m \u001b[38;5;167;01mValueError\u001b[39;00m(\u001b[38;5;124m\"\u001b[39m\u001b[38;5;124mNone cannot be a node\u001b[39m\u001b[38;5;124m\"\u001b[39m)\n",
      "\u001b[0;31mTypeError\u001b[0m: unhashable type: 'dict'"
     ]
    }
   ],
   "source": [
    "G = nx.Graph()\n",
    "\n",
    "G.add_node(patient)"
   ]
  },
  {
   "cell_type": "code",
   "execution_count": null,
   "id": "175b8fce-9f61-4d0a-8a60-8862b2714490",
   "metadata": {},
   "outputs": [],
   "source": []
  }
 ],
 "metadata": {
  "kernelspec": {
   "display_name": "my-virtualenv-name",
   "language": "python",
   "name": "my-virtualenv-name"
  },
  "language_info": {
   "codemirror_mode": {
    "name": "ipython",
    "version": 3
   },
   "file_extension": ".py",
   "mimetype": "text/x-python",
   "name": "python",
   "nbconvert_exporter": "python",
   "pygments_lexer": "ipython3",
   "version": "3.12.2"
  }
 },
 "nbformat": 4,
 "nbformat_minor": 5
}
