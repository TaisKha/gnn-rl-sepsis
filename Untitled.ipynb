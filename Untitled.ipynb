{
 "cells": [
  {
   "cell_type": "code",
   "execution_count": 1,
   "id": "38edc6d6-1e41-49f0-9d34-d2bf7a909410",
   "metadata": {},
   "outputs": [],
   "source": [
    "import pandas as pd\n",
    "import csv\n",
    "from neo4j import GraphDatabase\n",
    "import re\n",
    "import seaborn as sns\n",
    "import matplotlib.pyplot as plt"
   ]
  },
  {
   "cell_type": "code",
   "execution_count": 48,
   "id": "5a5754cb-2a81-4fb4-b73c-4ec8211784d2",
   "metadata": {},
   "outputs": [],
   "source": [
    "source_file_path = \"sepsis_final_data_RAW_withTimes_copy.csv\""
   ]
  },
  {
   "cell_type": "code",
   "execution_count": 49,
   "id": "7b1a708f-4bc8-47f1-b664-4e8a2f032ba3",
   "metadata": {},
   "outputs": [
    {
     "name": "stdout",
     "output_type": "stream",
     "text": [
      "   traj  step  m:presumed_onset   m:charttime  m:icustayid  o:gender  \\\n",
      "0     1     0      7.245590e+09  7.245486e+09     200003.0       0.0   \n",
      "1     1     1      7.245590e+09  7.245500e+09     200003.0       0.0   \n",
      "2     1     2      7.245590e+09  7.245515e+09     200003.0       0.0   \n",
      "3     1     3      7.245590e+09  7.245529e+09     200003.0       0.0   \n",
      "4     1     4      7.245590e+09  7.245544e+09     200003.0       0.0   \n",
      "\n",
      "   o:mechvent  o:max_dose_vaso  o:re_admission         o:age  ...  o:SGOT  \\\n",
      "0         0.0              0.0             0.0  17639.826435  ...    66.0   \n",
      "1         0.0              0.0             0.0  17639.826435  ...    38.0   \n",
      "2         0.0              0.0             0.0  17639.826435  ...    38.0   \n",
      "3         0.0              0.0             0.0  17639.826435  ...    38.0   \n",
      "4         0.0              0.0             0.0  17639.826435  ...    38.0   \n",
      "\n",
      "   o:SGPT  o:Total_bili  o:INR  o:input_total  o:input_4hourly  \\\n",
      "0    44.0           0.5    1.3         6527.0             50.0   \n",
      "1    30.0           5.2    1.0         6577.0             50.0   \n",
      "2    30.0           5.2    1.0         6627.0             50.0   \n",
      "3    30.0           5.2    1.3         6677.0             50.0   \n",
      "4    30.0           5.2    1.3         6727.0             50.0   \n",
      "\n",
      "   o:output_total  o:output_4hourly  a:action  r:reward  \n",
      "0         13617.0             520.0        10       0.0  \n",
      "1         13982.0             365.0        10       0.0  \n",
      "2         14262.0             280.0        10       0.0  \n",
      "3         14602.0             340.0        10       0.0  \n",
      "4         15142.0             540.0        10       0.0  \n",
      "\n",
      "[5 rows x 54 columns]\n"
     ]
    }
   ],
   "source": [
    "# Load the CSV file\n",
    "df = pd.read_csv(source_file_path)\n",
    "\n",
    "# View the first few rows\n",
    "print(df.head())\n",
    "\n"
   ]
  },
  {
   "cell_type": "code",
   "execution_count": 50,
   "id": "e7133133-5791-446e-8228-2193fdef2b78",
   "metadata": {},
   "outputs": [
    {
     "name": "stdout",
     "output_type": "stream",
     "text": [
      "                traj           step  m:presumed_onset   m:charttime  \\\n",
      "count  247480.000000  247480.000000      2.474800e+05  2.474800e+05   \n",
      "mean     9438.493317       6.970814      5.731359e+09  5.731407e+09   \n",
      "std      5455.077480       4.976766      9.163719e+08  9.163718e+08   \n",
      "min         1.000000       0.000000      4.116096e+09  4.116043e+09   \n",
      "25%      4706.000000       3.000000      4.949059e+09  4.949197e+09   \n",
      "50%      9429.000000       6.000000      5.728811e+09  5.728855e+09   \n",
      "75%     14155.000000      10.000000      6.529248e+09  6.529363e+09   \n",
      "max     18908.000000      19.000000      7.593437e+09  7.593608e+09   \n",
      "\n",
      "         m:icustayid       o:gender     o:mechvent  o:max_dose_vaso  \\\n",
      "count  247480.000000  247480.000000  247480.000000    247480.000000   \n",
      "mean   249892.529582       0.440371       0.359512         0.049190   \n",
      "std     28855.575910       0.496433       0.479858         0.502781   \n",
      "min    200003.000000       0.000000       0.000000         0.000000   \n",
      "25%    224778.000000       0.000000       0.000000         0.000000   \n",
      "50%    250132.000000       0.000000       0.000000         0.000000   \n",
      "75%    274753.000000       1.000000       1.000000         0.000000   \n",
      "max    299995.000000       1.000000       1.000000       189.076000   \n",
      "\n",
      "       o:re_admission          o:age  ...         o:SGOT         o:SGPT  \\\n",
      "count   247480.000000  247480.000000  ...  247480.000000  247480.000000   \n",
      "mean         0.073521   23540.757925  ...     109.573938      98.046363   \n",
      "std          0.260990    6096.619376  ...     388.922161     352.721750   \n",
      "min          0.000000    6582.422234  ...       0.000000       0.000000   \n",
      "25%          0.000000   19520.816887  ...      22.000000      17.000000   \n",
      "50%          0.000000   24053.917963  ...      36.000000      29.000000   \n",
      "75%          0.000000   28372.996238  ...      70.000000      61.000000   \n",
      "max          1.000000   33383.850000  ...    9939.000000    9830.000000   \n",
      "\n",
      "        o:Total_bili          o:INR  o:input_total  o:input_4hourly  \\\n",
      "count  247480.000000  247480.000000  247480.000000    247480.000000   \n",
      "mean        1.804015       1.496218    7942.111909       272.071727   \n",
      "std         3.826931       0.809707   11513.808024       525.200014   \n",
      "min         0.000000       0.000000       0.000000         0.000000   \n",
      "25%         0.400000       1.100000    1591.255071         0.000000   \n",
      "50%         0.700000       1.300000    4784.510725        54.604917   \n",
      "75%         1.400000       1.500000    9848.187717       318.333333   \n",
      "max        69.600000      18.000000  315802.821083      9723.914283   \n",
      "\n",
      "       o:output_total  o:output_4hourly       a:action       r:reward  \n",
      "count   247480.000000     247480.000000  247480.000000  247480.000000  \n",
      "mean      6387.526532        316.109883       9.323161       0.067141  \n",
      "std      12684.041293        368.271341       7.649584       0.268132  \n",
      "min          0.000000          0.000000       0.000000      -1.000000  \n",
      "25%        775.000000         70.000000       0.000000       0.000000  \n",
      "50%       2405.000000        220.000000      10.000000       0.000000  \n",
      "75%       6255.000000        440.000000      15.000000       0.000000  \n",
      "max     330130.000000      10200.000000      24.000000       1.000000  \n",
      "\n",
      "[8 rows x 54 columns]\n",
      "<class 'pandas.core.frame.DataFrame'>\n",
      "RangeIndex: 247480 entries, 0 to 247479\n",
      "Data columns (total 54 columns):\n",
      " #   Column               Non-Null Count   Dtype  \n",
      "---  ------               --------------   -----  \n",
      " 0   traj                 247480 non-null  int64  \n",
      " 1   step                 247480 non-null  int64  \n",
      " 2   m:presumed_onset     247480 non-null  float64\n",
      " 3   m:charttime          247480 non-null  float64\n",
      " 4   m:icustayid          247480 non-null  float64\n",
      " 5   o:gender             247480 non-null  float64\n",
      " 6   o:mechvent           247480 non-null  float64\n",
      " 7   o:max_dose_vaso      247480 non-null  float64\n",
      " 8   o:re_admission       247480 non-null  float64\n",
      " 9   o:age                247480 non-null  float64\n",
      " 10  o:Weight_kg          247480 non-null  float64\n",
      " 11  o:GCS                247480 non-null  float64\n",
      " 12  o:HR                 247480 non-null  float64\n",
      " 13  o:SysBP              247480 non-null  float64\n",
      " 14  o:MeanBP             247480 non-null  float64\n",
      " 15  o:DiaBP              247480 non-null  float64\n",
      " 16  o:RR                 247480 non-null  float64\n",
      " 17  o:Temp_C             247480 non-null  float64\n",
      " 18  o:FiO2_1             247480 non-null  float64\n",
      " 19  o:Potassium          247480 non-null  float64\n",
      " 20  o:Sodium             247480 non-null  float64\n",
      " 21  o:Chloride           247480 non-null  float64\n",
      " 22  o:Glucose            247480 non-null  float64\n",
      " 23  o:Magnesium          247480 non-null  float64\n",
      " 24  o:Calcium            247480 non-null  float64\n",
      " 25  o:Hb                 247480 non-null  float64\n",
      " 26  o:WBC_count          247480 non-null  float64\n",
      " 27  o:Platelets_count    247480 non-null  float64\n",
      " 28  o:PTT                247480 non-null  float64\n",
      " 29  o:PT                 247480 non-null  float64\n",
      " 30  o:Arterial_pH        247480 non-null  float64\n",
      " 31  o:paO2               247480 non-null  float64\n",
      " 32  o:paCO2              247480 non-null  float64\n",
      " 33  o:Arterial_BE        247480 non-null  float64\n",
      " 34  o:HCO3               247480 non-null  float64\n",
      " 35  o:Arterial_lactate   247480 non-null  float64\n",
      " 36  o:SOFA               247480 non-null  float64\n",
      " 37  o:SIRS               247480 non-null  float64\n",
      " 38  o:Shock_Index        247480 non-null  float64\n",
      " 39  o:PaO2_FiO2          247480 non-null  float64\n",
      " 40  o:cumulated_balance  247480 non-null  float64\n",
      " 41  o:SpO2               247480 non-null  float64\n",
      " 42  o:BUN                247480 non-null  float64\n",
      " 43  o:Creatinine         247480 non-null  float64\n",
      " 44  o:SGOT               247480 non-null  float64\n",
      " 45  o:SGPT               247480 non-null  float64\n",
      " 46  o:Total_bili         247480 non-null  float64\n",
      " 47  o:INR                247480 non-null  float64\n",
      " 48  o:input_total        247480 non-null  float64\n",
      " 49  o:input_4hourly      247480 non-null  float64\n",
      " 50  o:output_total       247480 non-null  float64\n",
      " 51  o:output_4hourly     247480 non-null  float64\n",
      " 52  a:action             247480 non-null  int64  \n",
      " 53  r:reward             247480 non-null  float64\n",
      "dtypes: float64(51), int64(3)\n",
      "memory usage: 102.0 MB\n",
      "None\n"
     ]
    }
   ],
   "source": [
    "# Basic operations\n",
    "print(df.describe())  # Get summary statistics\n",
    "print(df.info())      # Get info about the DataFramewith open(source_file_path) as csvfile:"
   ]
  },
  {
   "cell_type": "code",
   "execution_count": null,
   "id": "b756025c-e48a-43af-877a-76ad162feac7",
   "metadata": {},
   "outputs": [],
   "source": [
    "# Step starts from 0, not from 1. We need to add +1 to the max step within a trajectory calculate total number of steps within every trajectory"
   ]
  },
  {
   "cell_type": "code",
   "execution_count": 51,
   "id": "4b8880fb-dfd9-4cdd-b7b4-65a6dc804306",
   "metadata": {},
   "outputs": [],
   "source": [
    "# Group by trajectory and sum the steps\n",
    "traj_stats = df.groupby('traj')['step'].max()"
   ]
  },
  {
   "cell_type": "code",
   "execution_count": 52,
   "id": "7490672f-d2de-477a-a258-1f724f9bdf0a",
   "metadata": {},
   "outputs": [
    {
     "data": {
      "text/plain": [
       "traj\n",
       "1      6\n",
       "2     11\n",
       "3      3\n",
       "4      9\n",
       "5     19\n",
       "6     19\n",
       "7      6\n",
       "8      2\n",
       "9     13\n",
       "10    19\n",
       "Name: step, dtype: int64"
      ]
     },
     "execution_count": 52,
     "metadata": {},
     "output_type": "execute_result"
    }
   ],
   "source": [
    "traj_stats.head(10)"
   ]
  },
  {
   "cell_type": "code",
   "execution_count": 53,
   "id": "f618cbcc-178a-42e8-8215-cb566b25ed34",
   "metadata": {},
   "outputs": [],
   "source": [
    "step_number_within_trajectory = traj_stats+1"
   ]
  },
  {
   "cell_type": "code",
   "execution_count": 54,
   "id": "b9a131d7-b70f-4ffd-a4b4-2de3284f9008",
   "metadata": {},
   "outputs": [
    {
     "data": {
      "text/plain": [
       "traj\n",
       "1     7\n",
       "2    12\n",
       "3     4\n",
       "4    10\n",
       "5    20\n",
       "Name: step, dtype: int64"
      ]
     },
     "execution_count": 54,
     "metadata": {},
     "output_type": "execute_result"
    }
   ],
   "source": [
    "step_number_within_trajectory.head()"
   ]
  },
  {
   "cell_type": "code",
   "execution_count": 55,
   "id": "38de34b2-2cd8-4732-b6ee-6ef86f7f1f81",
   "metadata": {},
   "outputs": [
    {
     "data": {
      "text/plain": [
       "count    18908.000000\n",
       "mean        13.088640\n",
       "std          4.924873\n",
       "min          1.000000\n",
       "25%         10.000000\n",
       "50%         13.000000\n",
       "75%         17.000000\n",
       "max         20.000000\n",
       "Name: step, dtype: float64"
      ]
     },
     "execution_count": 55,
     "metadata": {},
     "output_type": "execute_result"
    }
   ],
   "source": [
    "step_number_within_trajectory.describe()"
   ]
  },
  {
   "cell_type": "code",
   "execution_count": 56,
   "id": "785edaaf-0f49-4263-a3f5-37e8fce55540",
   "metadata": {},
   "outputs": [
    {
     "data": {
      "text/plain": [
       "13.0"
      ]
     },
     "execution_count": 56,
     "metadata": {},
     "output_type": "execute_result"
    }
   ],
   "source": [
    "step_number_within_trajectory.median()"
   ]
  },
  {
   "cell_type": "code",
   "execution_count": 57,
   "id": "6e9e188a-323c-4ef8-89f8-0e06f1861807",
   "metadata": {},
   "outputs": [
    {
     "data": {
      "text/plain": [
       "13.088639729215148"
      ]
     },
     "execution_count": 57,
     "metadata": {},
     "output_type": "execute_result"
    }
   ],
   "source": [
    "step_number_within_trajectory.mean()"
   ]
  },
  {
   "cell_type": "code",
   "execution_count": 64,
   "id": "8cc19c25-b1d0-4c8b-b279-f9b3c40da03b",
   "metadata": {},
   "outputs": [
    {
     "data": {
      "image/png": "[encoded data removed]",
      "text/plain": [
       "<Figure size 640x480 with 1 Axes>"
      ]
     },
     "metadata": {},
     "output_type": "display_data"
    }
   ],
   "source": [
    "# I want to check on normality\n",
    "# Histogram\n",
    "plt.hist(step_number_within_trajectory, bins=20, alpha=0.7, color='blue', edgecolor='black')\n",
    "plt.title(\"Histogram for all data\")\n",
    "plt.show()"
   ]
  },
  {
   "cell_type": "code",
   "execution_count": 82,
   "id": "e380178c-6a93-4e2f-9f17-abc88486b062",
   "metadata": {},
   "outputs": [
    {
     "data": {
      "image/png": "[encoded data removed]",
      "text/plain": [
       "<Figure size 640x480 with 1 Axes>"
      ]
     },
     "metadata": {},
     "output_type": "display_data"
    }
   ],
   "source": [
    "# I want to check on normality\n",
    "# Histogram\n",
    "plt.hist(step_number_within_trajectory[step_number_within_trajectory<20], bins=19, alpha=0.7, color='blue', edgecolor='black')\n",
    "plt.title(\"Histogram for < 20 steps data\")\n",
    "plt.show()"
   ]
  },
  {
   "cell_type": "markdown",
   "id": "fa0818db-10f9-45f9-9970-c6717c8b58d4",
   "metadata": {},
   "source": [
    "It is not a normal distribution, there is a signififact prevalence of 20 steps trajectories. 3500 of almost 19000 is more than 20%. Even if we exclude them, the distribution is not normal, although on the first histogram, it seems that it might be normal. Trajectories with 0 to 6 steps are presented up to 500 each. 6-9 steps increasingly more from 500 to 1000. Around 1250 samples for trajectories from 9 to 13. 14 steps peaking at about 1500 samples. From 15 to 19 is descreasing steadily down to about 500 samples at 19."
   ]
  },
  {
   "cell_type": "code",
   "execution_count": 87,
   "id": "4308b411-e6f0-45af-aa5a-94370b47d143",
   "metadata": {},
   "outputs": [
    {
     "data": {
      "text/plain": [
       "(3511,)"
      ]
     },
     "execution_count": 87,
     "metadata": {},
     "output_type": "execute_result"
    }
   ],
   "source": [
    "# We could count exact number of trajectories with N number of steps.\n",
    "step_number_within_trajectory[step_number_within_trajectory==20].shape"
   ]
  },
  {
   "cell_type": "code",
   "execution_count": 88,
   "id": "8c0673d6-59b5-4366-900b-9c70595f3100",
   "metadata": {},
   "outputs": [
    {
     "data": {
      "image/png": "[encoded data removed]",
      "text/plain": [
       "<Figure size 640x480 with 1 Axes>"
      ]
     },
     "metadata": {},
     "output_type": "display_data"
    }
   ],
   "source": [
    "import scipy.stats as stats\n",
    "# Q-Q plot\n",
    "stats.probplot(step_number_within_trajectory[step_number_within_trajectory<20], dist=\"norm\", plot=plt)\n",
    "plt.title(\"Q-Q Plot for values < 20\")\n",
    "plt.show()"
   ]
  },
  {
   "cell_type": "code",
   "execution_count": 89,
   "id": "f9eacbbd-8abc-46c7-943c-2f4c69f08642",
   "metadata": {},
   "outputs": [
    {
     "data": {
      "image/png": "[encoded data removed]",
      "text/plain": [
       "<Figure size 640x480 with 1 Axes>"
      ]
     },
     "metadata": {},
     "output_type": "display_data"
    }
   ],
   "source": [
    "import scipy.stats as stats\n",
    "# Q-Q plot\n",
    "stats.probplot(step_number_within_trajectory[step_number_within_trajectory<19], dist=\"norm\", plot=plt)\n",
    "plt.title(\"Q-Q Plot\")\n",
    "plt.show()"
   ]
  },
  {
   "cell_type": "markdown",
   "id": "8f7f5dba-4fd7-488c-b6f2-894e0e3ef1a2",
   "metadata": {},
   "source": [
    "This Q-Q plot compares theoretical quantiles of normal distribution with the real data. Linear dependency means normal distribution.\n"
   ]
  },
  {
   "cell_type": "code",
   "execution_count": 104,
   "id": "061f87b4-fc08-4bbe-83e2-2156ec48c06e",
   "metadata": {},
   "outputs": [
    {
     "name": "stdout",
     "output_type": "stream",
     "text": [
      "Shapiro-Wilk Test Statistic: 0.9504122593445846, p-value: 4.153954094456585e-61\n"
     ]
    },
    {
     "data": {
      "text/plain": [
       "True"
      ]
     },
     "execution_count": 104,
     "metadata": {},
     "output_type": "execute_result"
    }
   ],
   "source": [
    "# Statistical tests\n",
    "# Shapiro-Wilk Test\n",
    "shapiro_test = stats.shapiro(step_number_within_trajectory)\n",
    "print(f\"Shapiro-Wilk Test Statistic: {shapiro_test.statistic}, p-value: {shapiro_test.pvalue}\")\n",
    "shapiro_test.pvalue < 0.05"
   ]
  },
  {
   "cell_type": "code",
   "execution_count": null,
   "id": "e22ba8ab-43f2-4e6a-8f53-38e13b7de2e5",
   "metadata": {},
   "outputs": [],
   "source": []
  },
  {
   "cell_type": "code",
   "execution_count": 107,
   "id": "d0c3946e-c37b-490e-8e23-782b291cbea3",
   "metadata": {},
   "outputs": [
    {
     "name": "stdout",
     "output_type": "stream",
     "text": [
      "Shapiro-Wilk Test Statistic: 0.9760180548392348, p-value: 1.7918618085196552e-44\n"
     ]
    },
    {
     "name": "stderr",
     "output_type": "stream",
     "text": [
      "/Users/taiskha/.local/share/virtualenvs/code-hg2tXaqu/lib/python3.12/site-packages/scipy/stats/_axis_nan_policy.py:573: UserWarning: scipy.stats.shapiro: For N > 5000, computed p-value may not be accurate. Current N is 15397.\n",
      "  res = hypotest_fun_out(*samples, **kwds)\n"
     ]
    },
    {
     "data": {
      "text/plain": [
       "True"
      ]
     },
     "execution_count": 107,
     "metadata": {},
     "output_type": "execute_result"
    }
   ],
   "source": [
    "shapiro_test = stats.shapiro(step_number_within_trajectory[step_number_within_trajectory<20])\n",
    "print(f\"Shapiro-Wilk Test Statistic: {shapiro_test.statistic}, p-value: {shapiro_test.pvalue}\")\n",
    "\n",
    "shapiro_test.pvalue < 0.05"
   ]
  },
  {
   "cell_type": "markdown",
   "id": "d256771e-277a-403e-a858-a829b5fa19c6",
   "metadata": {},
   "source": [
    "Both times < 0.05 -> not normal distribution"
   ]
  },
  {
   "cell_type": "code",
   "execution_count": null,
   "id": "a1457a2e-37eb-484e-980a-f334219ecc70",
   "metadata": {},
   "outputs": [],
   "source": []
  },
  {
   "cell_type": "code",
   "execution_count": 108,
   "id": "1dd0fee9-ca92-4473-9fa4-739770edfd80",
   "metadata": {},
   "outputs": [
    {
     "name": "stdout",
     "output_type": "stream",
     "text": [
      "Statistic: 411.449805792098, p-value: 4.516581820785015e-90\n"
     ]
    }
   ],
   "source": [
    "# For a subset which is < 20\n",
    "normal_test = stats.normaltest(step_number_within_trajectory[step_number_within_trajectory<20])\n",
    "print(f\"Statistic: {normal_test.statistic}, p-value: {normal_test.pvalue}\")"
   ]
  },
  {
   "cell_type": "code",
   "execution_count": 109,
   "id": "469a3758-80f1-4384-9483-b37a520e7130",
   "metadata": {},
   "outputs": [
    {
     "data": {
      "text/plain": [
       "True"
      ]
     },
     "execution_count": 109,
     "metadata": {},
     "output_type": "execute_result"
    }
   ],
   "source": [
    "normal_test.pvalue < 0.05"
   ]
  },
  {
   "cell_type": "code",
   "execution_count": 110,
   "id": "bfc9f8b2-9dfa-4385-9c06-2810e3705a88",
   "metadata": {},
   "outputs": [
    {
     "name": "stdout",
     "output_type": "stream",
     "text": [
      "Statistic: 860.2507498073242, p-value: 1.5809682664819855e-187\n"
     ]
    },
    {
     "data": {
      "text/plain": [
       "True"
      ]
     },
     "execution_count": 110,
     "metadata": {},
     "output_type": "execute_result"
    }
   ],
   "source": [
    "# For the whole set\n",
    "normal_test = stats.normaltest(step_number_within_trajectory)\n",
    "print(f\"Statistic: {normal_test.statistic}, p-value: {normal_test.pvalue}\")\n",
    "normal_test.pvalue < 0.05"
   ]
  },
  {
   "cell_type": "markdown",
   "id": "1347038f-e124-4162-a21e-25203e3ecb7d",
   "metadata": {},
   "source": [
    "From [Scipy docs](https://docs.scipy.org/doc/scipy/reference/generated/scipy.stats.normaltest.html): \"If the p-value is “small” - that is, if there is a low probability of sampling data from a normally distributed population that produces such an extreme value of the statistic - this may be taken as evidence against the null hypothesis in favor of the alternative: the weights were not drawn from a normal distribution. Note that:\n",
    "\n",
    "    The inverse is not true; that is, the test is not used to provide evidence for the null hypothesis.\n",
    "\n",
    "    The threshold for values that will be considered “small” is a choice that should be made before the data is analyzed [4] with consideration of the risks of both false positives (incorrectly rejecting the null hypothesis) and false negatives (failure to reject a false null hypothesis).\n",
    "\""
   ]
  },
  {
   "cell_type": "code",
   "execution_count": 39,
   "id": "4319999d-f114-4f1c-b2b2-e4239adad62e",
   "metadata": {},
   "outputs": [
    {
     "data": {
      "text/plain": [
       "traj\n",
       "1         7\n",
       "2        12\n",
       "3         4\n",
       "4        10\n",
       "7         7\n",
       "         ..\n",
       "18900    10\n",
       "18901    14\n",
       "18902    12\n",
       "18904     6\n",
       "18908    13\n",
       "Name: step, Length: 13810, dtype: int64"
      ]
     },
     "execution_count": 39,
     "metadata": {},
     "output_type": "execute_result"
    }
   ],
   "source": [
    "step_number_within_trajectory[step_number_within_trajectory<17]"
   ]
  },
  {
   "cell_type": "code",
   "execution_count": null,
   "id": "58a6a2d6-c318-4ac7-9500-2bce18b78c95",
   "metadata": {},
   "outputs": [],
   "source": []
  }
 ],
 "metadata": {
  "kernelspec": {
   "display_name": "my-virtualenv-name",
   "language": "python",
   "name": "my-virtualenv-name"
  },
  "language_info": {
   "codemirror_mode": {
    "name": "ipython",
    "version": 3
   },
   "file_extension": ".py",
   "mimetype": "text/x-python",
   "name": "python",
   "nbconvert_exporter": "python",
   "pygments_lexer": "ipython3",
   "version": "3.12.2"
  }
 },
 "nbformat": 4,
 "nbformat_minor": 5
}
